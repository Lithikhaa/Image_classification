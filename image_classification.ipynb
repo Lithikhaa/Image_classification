{
  "cells": [
    {
      "cell_type": "markdown",
      "metadata": {
        "id": "view-in-github",
        "colab_type": "text"
      },
      "source": [
        "<a href=\"https://colab.research.google.com/github/Lithikhaa/Image_classification/blob/main/image_classification.ipynb\" target=\"_parent\"><img src=\"https://colab.research.google.com/assets/colab-badge.svg\" alt=\"Open In Colab\"/></a>"
      ]
    },
    {
      "cell_type": "code",
      "execution_count": 1,
      "metadata": {
        "id": "ItCsjXRiLmKL"
      },
      "outputs": [],
      "source": [
        "import tensorflow as tf\n",
        "import numpy as np\n",
        "import matplotlib.pyplot as plt\n",
        "from tensorflow.keras import datasets, layers, models"
      ]
    },
    {
      "cell_type": "code",
      "execution_count": 2,
      "metadata": {
        "colab": {
          "base_uri": "https://localhost:8080/"
        },
        "id": "mtdNFZIBMRUb",
        "outputId": "4209ecba-cf91-46b6-be0c-d77561734864"
      },
      "outputs": [
        {
          "output_type": "stream",
          "name": "stdout",
          "text": [
            "Downloading data from https://www.cs.toronto.edu/~kriz/cifar-10-python.tar.gz\n",
            "170498071/170498071 [==============================] - 4s 0us/step\n"
          ]
        }
      ],
      "source": [
        "(x_train,y_train),(x_test,y_test)=datasets.cifar10.load_data()"
      ]
    },
    {
      "cell_type": "code",
      "execution_count": 3,
      "metadata": {
        "colab": {
          "base_uri": "https://localhost:8080/"
        },
        "id": "tAJobcHNM9Gu",
        "outputId": "a5f36b43-5cc0-4931-c131-49e19029d6a9"
      },
      "outputs": [
        {
          "output_type": "execute_result",
          "data": {
            "text/plain": [
              "((50000, 32, 32, 3), (50000, 1), (10000, 32, 32, 3), (10000, 1))"
            ]
          },
          "metadata": {},
          "execution_count": 3
        }
      ],
      "source": [
        "x_train.shape,y_train.shape,x_test.shape,y_test.shape #50000---training sample, 32, 32--pixel size, 3---rgb\n",
        "# The reason for this is that the CIFAR-10 dataset comes with a pre-defined split between training and testing data.\n",
        " #The dataset is already divided into 50,000 training images and 10,000 testing images."
      ]
    },
    {
      "cell_type": "code",
      "execution_count": 4,
      "metadata": {
        "colab": {
          "base_uri": "https://localhost:8080/"
        },
        "id": "MgZ3env_NFEC",
        "outputId": "430b5a59-2b08-4284-ecbd-691cfd00b23f"
      },
      "outputs": [
        {
          "output_type": "execute_result",
          "data": {
            "text/plain": [
              "array([[[ 59,  62,  63],\n",
              "        [ 43,  46,  45],\n",
              "        [ 50,  48,  43],\n",
              "        ...,\n",
              "        [158, 132, 108],\n",
              "        [152, 125, 102],\n",
              "        [148, 124, 103]],\n",
              "\n",
              "       [[ 16,  20,  20],\n",
              "        [  0,   0,   0],\n",
              "        [ 18,   8,   0],\n",
              "        ...,\n",
              "        [123,  88,  55],\n",
              "        [119,  83,  50],\n",
              "        [122,  87,  57]],\n",
              "\n",
              "       [[ 25,  24,  21],\n",
              "        [ 16,   7,   0],\n",
              "        [ 49,  27,   8],\n",
              "        ...,\n",
              "        [118,  84,  50],\n",
              "        [120,  84,  50],\n",
              "        [109,  73,  42]],\n",
              "\n",
              "       ...,\n",
              "\n",
              "       [[208, 170,  96],\n",
              "        [201, 153,  34],\n",
              "        [198, 161,  26],\n",
              "        ...,\n",
              "        [160, 133,  70],\n",
              "        [ 56,  31,   7],\n",
              "        [ 53,  34,  20]],\n",
              "\n",
              "       [[180, 139,  96],\n",
              "        [173, 123,  42],\n",
              "        [186, 144,  30],\n",
              "        ...,\n",
              "        [184, 148,  94],\n",
              "        [ 97,  62,  34],\n",
              "        [ 83,  53,  34]],\n",
              "\n",
              "       [[177, 144, 116],\n",
              "        [168, 129,  94],\n",
              "        [179, 142,  87],\n",
              "        ...,\n",
              "        [216, 184, 140],\n",
              "        [151, 118,  84],\n",
              "        [123,  92,  72]]], dtype=uint8)"
            ]
          },
          "metadata": {},
          "execution_count": 4
        }
      ],
      "source": [
        "x_train[0]#3dimensional array 32 by 32"
      ]
    },
    {
      "cell_type": "code",
      "execution_count": 5,
      "metadata": {
        "id": "u5ALL2FjPC20"
      },
      "outputs": [],
      "source": [
        "classes = [\"airplane\",\"automobile\",\"bird\",\"cat\",\"deer\",\"dog\",\"frog\",\"horse\",\"ship\",\"truck\"]\n"
      ]
    },
    {
      "cell_type": "code",
      "execution_count": 6,
      "metadata": {
        "colab": {
          "base_uri": "https://localhost:8080/",
          "height": 36
        },
        "id": "RLTqPkZw4vsj",
        "outputId": "8231abf4-2267-446f-b8dc-cb9c34ca400e"
      },
      "outputs": [
        {
          "output_type": "execute_result",
          "data": {
            "text/plain": [
              "'cat'"
            ],
            "application/vnd.google.colaboratory.intrinsic+json": {
              "type": "string"
            }
          },
          "metadata": {},
          "execution_count": 6
        }
      ],
      "source": [
        "classes[3]"
      ]
    },
    {
      "cell_type": "code",
      "execution_count": 7,
      "metadata": {
        "colab": {
          "base_uri": "https://localhost:8080/",
          "height": 234
        },
        "id": "FkPgrMPjN5Mx",
        "outputId": "1a6523d5-2ebf-40cc-d705-2c69533d446e"
      },
      "outputs": [
        {
          "output_type": "execute_result",
          "data": {
            "text/plain": [
              "<matplotlib.image.AxesImage at 0x7be23b4785e0>"
            ]
          },
          "metadata": {},
          "execution_count": 7
        },
        {
          "output_type": "display_data",
          "data": {
            "text/plain": [
              "<Figure size 2000x200 with 1 Axes>"
            ],
            "image/png": "[encoded data removed]"
          },
          "metadata": {}
        }
      ],
      "source": [
        "plt.figure(figsize=(20,2))\n",
        "plt.imshow(x_train[1])\n",
        "#to control the size"
      ]
    },
    {
      "cell_type": "code",
      "execution_count": 8,
      "metadata": {
        "colab": {
          "base_uri": "https://localhost:8080/"
        },
        "id": "C_0Q3Aiq4Jvp",
        "outputId": "8bc95967-ed5e-4aae-be48-8246174032d9"
      },
      "outputs": [
        {
          "output_type": "execute_result",
          "data": {
            "text/plain": [
              "array([6, 9, 9, 4, 1], dtype=uint8)"
            ]
          },
          "metadata": {},
          "execution_count": 8
        }
      ],
      "source": [
        "y_train=y_train[:5].reshape(-1)#before reshape we have got 2d so we reshaped\n",
        "y_train"
      ]
    },
    {
      "cell_type": "code",
      "execution_count": 9,
      "metadata": {
        "colab": {
          "base_uri": "https://localhost:8080/",
          "height": 237
        },
        "id": "FdJhTi011ltL",
        "outputId": "37b2beae-c839-453c-f3a2-61e8af6d9361"
      },
      "outputs": [
        {
          "output_type": "display_data",
          "data": {
            "text/plain": [
              "<Figure size 1500x200 with 1 Axes>"
            ],
            "image/png": "[encoded data removed]"
          },
          "metadata": {}
        }
      ],
      "source": [
        "def plot_sample(X,y,index):\n",
        "  plt.figure(figsize=(15,2))#15 units wide and 2 units tall.\n",
        "  plt.imshow(X[index])#This is an integer that specifies the index of the particular sample you want to visualize.\n",
        "  plt.xlabel(classes[y[index]])\n",
        "plot_sample(x_train,y_train,0)#0 refers to img\n",
        "#image data located at the index-th position in the X dataset.\n",
        "#X[index] seems to represent an individual image from the dataset.\n"
      ]
    },
    {
      "cell_type": "markdown",
      "source": [
        "X: This seems to be a collection of data points or samples, possibly images in this case.\n",
        "y: This appears to be a collection of corresponding labels or target values for each sample.\n",
        "index: This is an integer index that specifies which sample you want to visualize from the dataset.\n"
      ],
      "metadata": {
        "id": "qRygTgRPlkS_"
      }
    },
    {
      "cell_type": "code",
      "execution_count": 10,
      "metadata": {
        "colab": {
          "base_uri": "https://localhost:8080/",
          "height": 237
        },
        "id": "MRCDXb5763Vz",
        "outputId": "5234462d-f966-4ec7-f7ff-ccec2edfbd10"
      },
      "outputs": [
        {
          "output_type": "display_data",
          "data": {
            "text/plain": [
              "<Figure size 1500x200 with 1 Axes>"
            ],
            "image/png": "[encoded data removed]"
          },
          "metadata": {}
        }
      ],
      "source": [
        "plot_sample(x_train,y_train,4)"
      ]
    },
    {
      "cell_type": "code",
      "execution_count": 11,
      "metadata": {
        "id": "MJH8xGUo4-dI"
      },
      "outputs": [],
      "source": [
        "# x_train = x_train/255 #to normalize the value rgb values\n",
        "# x_test = x_test/255"
      ]
    },
    {
      "cell_type": "code",
      "execution_count": 12,
      "metadata": {
        "colab": {
          "base_uri": "https://localhost:8080/",
          "height": 192
        },
        "id": "ebQLwn8RDrAS",
        "outputId": "118bc271-3a99-474e-b55f-9beb7f33e374"
      },
      "outputs": [
        {
          "output_type": "error",
          "ename": "NameError",
          "evalue": "ignored",
          "traceback": [
            "\u001b[0;31m---------------------------------------------------------------------------\u001b[0m",
            "\u001b[0;31mNameError\u001b[0m                                 Traceback (most recent call last)",
            "\u001b[0;32m<ipython-input-12-4eba1a477f91>\u001b[0m in \u001b[0;36m<cell line: 1>\u001b[0;34m()\u001b[0m\n\u001b[0;32m----> 1\u001b[0;31m \u001b[0mX_train\u001b[0m \u001b[0;34m=\u001b[0m \u001b[0mX_train\u001b[0m \u001b[0;34m/\u001b[0m \u001b[0;36m255.0\u001b[0m\u001b[0;34m\u001b[0m\u001b[0;34m\u001b[0m\u001b[0m\n\u001b[0m\u001b[1;32m      2\u001b[0m \u001b[0mX_test\u001b[0m \u001b[0;34m=\u001b[0m \u001b[0mX_test\u001b[0m \u001b[0;34m/\u001b[0m \u001b[0;36m255.0\u001b[0m\u001b[0;34m\u001b[0m\u001b[0;34m\u001b[0m\u001b[0m\n",
            "\u001b[0;31mNameError\u001b[0m: name 'X_train' is not defined"
          ]
        }
      ],
      "source": [
        "# X_train = X_train / 255.0\n",
        "# X_test = X_test / 255.0"
      ]
    },
    {
      "cell_type": "code",
      "execution_count": null,
      "metadata": {
        "id": "B6dgNXds8-59"
      },
      "outputs": [],
      "source": [
        "# x_train[0]"
      ]
    },
    {
      "cell_type": "code",
      "execution_count": 13,
      "metadata": {
        "id": "vNHjUpmt9BqJ"
      },
      "outputs": [],
      "source": [
        "# ann = models.Sequential([\n",
        "#                  layers.Flatten(input_shape=(32,32,3)),\n",
        "#                  layers.Dense(3000,activation = 'relu'),\n",
        "#                  layers.Dense(1000,activation = 'relu'),\n",
        "#                  layers.Dense(10,activation = 'sigmoid')]) #10 classes"
      ]
    },
    {
      "cell_type": "code",
      "execution_count": null,
      "metadata": {
        "id": "rZsoFjlJBOo_"
      },
      "outputs": [],
      "source": [
        "# ann = models.Sequential([\n",
        "#                  layers.Flatten(input_shape=(32,32,3)),\n",
        "#                  layers.Dense(3000,activation = 'relu'),\n",
        "#                  layers.Dense(1000,activation = 'relu'),\n",
        "#                  layers.Dense(10,activation = 'sigmoid')]) #10 classes\n",
        "\n",
        "\n",
        "# ann.compile(optimizer = 'SGD',\n",
        "#            loss='sparse_categorical_crossentropy', #if y is directly a value it uses else onehot encode it uses categorical_crossentropy\n",
        "#            metrics=['accuracy'])\n",
        "# ann.fit(x_train,y_train,epochs = 5)"
      ]
    },
    {
      "cell_type": "code",
      "execution_count": 14,
      "metadata": {
        "colab": {
          "base_uri": "https://localhost:8080/"
        },
        "id": "OnWoUp9KDgJL",
        "outputId": "d1f36d4f-08ca-4959-9a3a-158c232a5120"
      },
      "outputs": [
        {
          "output_type": "execute_result",
          "data": {
            "text/plain": [
              "(50000, 32, 32, 3)"
            ]
          },
          "metadata": {},
          "execution_count": 14
        }
      ],
      "source": [
        "(X_train, y_train), (X_test,y_test) = datasets.cifar10.load_data()\n",
        "X_train.shape"
      ]
    },
    {
      "cell_type": "code",
      "execution_count": 15,
      "metadata": {
        "colab": {
          "base_uri": "https://localhost:8080/"
        },
        "id": "uMLHLqY8Dxdf",
        "outputId": "bb1b6ec1-ae22-4c28-f4ba-d7a9d8f2e34e"
      },
      "outputs": [
        {
          "output_type": "execute_result",
          "data": {
            "text/plain": [
              "(10000, 32, 32, 3)"
            ]
          },
          "metadata": {},
          "execution_count": 15
        }
      ],
      "source": [
        "X_test.shape"
      ]
    },
    {
      "cell_type": "code",
      "execution_count": 16,
      "metadata": {
        "colab": {
          "base_uri": "https://localhost:8080/"
        },
        "id": "MKdqV8u2D08B",
        "outputId": "acf50af2-f44e-4551-ee37-a2fa6172f17f"
      },
      "outputs": [
        {
          "output_type": "execute_result",
          "data": {
            "text/plain": [
              "array([6, 9, 9, 4, 1], dtype=uint8)"
            ]
          },
          "metadata": {},
          "execution_count": 16
        }
      ],
      "source": [
        "y_train = y_train.reshape(-1,)\n",
        "y_train[:5]"
      ]
    },
    {
      "cell_type": "code",
      "execution_count": 17,
      "metadata": {
        "id": "ehOuchJMD4r1"
      },
      "outputs": [],
      "source": [
        "y_test = y_test.reshape(-1,)"
      ]
    },
    {
      "cell_type": "code",
      "execution_count": 18,
      "metadata": {
        "id": "xmzzenKxD8IY"
      },
      "outputs": [],
      "source": [
        "classes = [\"airplane\",\"automobile\",\"bird\",\"cat\",\"deer\",\"dog\",\"frog\",\"horse\",\"ship\",\"truck\"]"
      ]
    },
    {
      "cell_type": "code",
      "execution_count": 19,
      "metadata": {
        "colab": {
          "base_uri": "https://localhost:8080/",
          "height": 237
        },
        "id": "CNfoT16NEBP7",
        "outputId": "65f443c9-93df-47e2-b20f-536c1de64bdb"
      },
      "outputs": [
        {
          "output_type": "display_data",
          "data": {
            "text/plain": [
              "<Figure size 1500x200 with 1 Axes>"
            ],
            "image/png": "[encoded data removed]"
          },
          "metadata": {}
        }
      ],
      "source": [
        "def plot_sample(X, y, index):\n",
        "    plt.figure(figsize = (15,2))\n",
        "    plt.imshow(X[index])\n",
        "    plt.xlabel(classes[y[index]])\n",
        "plot_sample(X_train, y_train, 0)"
      ]
    },
    {
      "cell_type": "code",
      "execution_count": 20,
      "metadata": {
        "id": "9-P57jDBEB-1"
      },
      "outputs": [],
      "source": [
        "X_train = X_train / 255.0\n",
        "X_test = X_test / 255.0"
      ]
    },
    {
      "cell_type": "code",
      "execution_count": 21,
      "metadata": {
        "colab": {
          "base_uri": "https://localhost:8080/"
        },
        "id": "9O6vKhbTEE4L",
        "outputId": "014abc60-f701-44e3-aa43-2fab1abdab27"
      },
      "outputs": [
        {
          "output_type": "stream",
          "name": "stdout",
          "text": [
            "Epoch 1/5\n",
            "1563/1563 [==============================] - 168s 107ms/step - loss: 1.8079 - accuracy: 0.3516\n",
            "Epoch 2/5\n",
            "1563/1563 [==============================] - 144s 92ms/step - loss: 1.6177 - accuracy: 0.4287\n",
            "Epoch 3/5\n",
            "1563/1563 [==============================] - 143s 92ms/step - loss: 1.5385 - accuracy: 0.4602\n",
            "Epoch 4/5\n",
            "1563/1563 [==============================] - 149s 96ms/step - loss: 1.4770 - accuracy: 0.4780\n",
            "Epoch 5/5\n",
            "1563/1563 [==============================] - 151s 96ms/step - loss: 1.4300 - accuracy: 0.4948\n"
          ]
        },
        {
          "output_type": "execute_result",
          "data": {
            "text/plain": [
              "<keras.callbacks.History at 0x7be1cee46710>"
            ]
          },
          "metadata": {},
          "execution_count": 21
        }
      ],
      "source": [
        "#training the model\n",
        "ann = models.Sequential([\n",
        "        layers.Flatten(input_shape=(32,32,3)),\n",
        "        layers.Dense(3000, activation='relu'),\n",
        "        layers.Dense(1000, activation='relu'),\n",
        "        layers.Dense(10, activation='softmax')\n",
        "    ])\n",
        "\n",
        "ann.compile(optimizer='SGD',\n",
        "              loss='sparse_categorical_crossentropy',\n",
        "              metrics=['accuracy'])\n",
        "\n",
        "ann.fit(X_train, y_train, epochs=5)"
      ]
    },
    {
      "cell_type": "code",
      "execution_count": 22,
      "metadata": {
        "id": "GcNdWaa1EHoE",
        "colab": {
          "base_uri": "https://localhost:8080/"
        },
        "outputId": "2bb78433-f311-4904-d641-3482aaf0afa3"
      },
      "outputs": [
        {
          "output_type": "stream",
          "name": "stdout",
          "text": [
            "313/313 [==============================] - 10s 32ms/step\n",
            "Classification Report: \n",
            "               precision    recall  f1-score   support\n",
            "\n",
            "           0       0.72      0.26      0.38      1000\n",
            "           1       0.46      0.81      0.59      1000\n",
            "           2       0.34      0.33      0.33      1000\n",
            "           3       0.46      0.19      0.27      1000\n",
            "           4       0.29      0.66      0.41      1000\n",
            "           5       0.50      0.26      0.34      1000\n",
            "           6       0.48      0.54      0.51      1000\n",
            "           7       0.59      0.51      0.55      1000\n",
            "           8       0.54      0.68      0.60      1000\n",
            "           9       0.65      0.32      0.43      1000\n",
            "\n",
            "    accuracy                           0.45     10000\n",
            "   macro avg       0.50      0.45      0.44     10000\n",
            "weighted avg       0.50      0.45      0.44     10000\n",
            "\n"
          ]
        }
      ],
      "source": [
        "from sklearn.metrics import confusion_matrix , classification_report\n",
        "import numpy as np\n",
        "y_pred = ann.predict(X_test)\n",
        "y_pred_classes = [np.argmax(element) for element in y_pred]#for all the classes\n",
        "\n",
        "print(\"Classification Report: \\n\", classification_report(y_test, y_pred_classes))"
      ]
    },
    {
      "cell_type": "code",
      "execution_count": 23,
      "metadata": {
        "id": "xIqyrFYkGFSR"
      },
      "outputs": [],
      "source": [
        "cnn = models.Sequential([\n",
        "    #ears,eyes,nose\n",
        "    layers.Conv2D(filters=32, kernel_size=(3, 3), activation='relu', input_shape=(32, 32, 3)),\n",
        "    layers.MaxPooling2D((2, 2)),\n",
        "    #body,head\n",
        "    layers.Conv2D(filters=64, kernel_size=(3, 3), activation='relu'),\n",
        "    layers.MaxPooling2D((2, 2)),\n",
        "    #dense\n",
        "    layers.Flatten(),\n",
        "    layers.Dense(64, activation='relu'),\n",
        "    layers.Dense(10, activation='softmax')#normalize the probablity value in softmax\n",
        "])\n"
      ]
    },
    {
      "cell_type": "code",
      "execution_count": 24,
      "metadata": {
        "id": "TH8hnXOEGHxI",
        "colab": {
          "base_uri": "https://localhost:8080/"
        },
        "outputId": "880bf49c-ec59-4633-cc6c-f033dc847f22"
      },
      "outputs": [
        {
          "output_type": "stream",
          "name": "stdout",
          "text": [
            "Epoch 1/10\n",
            "1563/1563 [==============================] - 79s 50ms/step - loss: 1.5397 - accuracy: 0.4419\n",
            "Epoch 2/10\n",
            "1563/1563 [==============================] - 70s 45ms/step - loss: 1.1768 - accuracy: 0.5858\n",
            "Epoch 3/10\n",
            "1563/1563 [==============================] - 71s 45ms/step - loss: 1.0455 - accuracy: 0.6366\n",
            "Epoch 4/10\n",
            "1563/1563 [==============================] - 73s 46ms/step - loss: 0.9561 - accuracy: 0.6681\n",
            "Epoch 5/10\n",
            "1563/1563 [==============================] - 74s 47ms/step - loss: 0.9022 - accuracy: 0.6871\n",
            "Epoch 6/10\n",
            "1563/1563 [==============================] - 72s 46ms/step - loss: 0.8598 - accuracy: 0.7025\n",
            "Epoch 7/10\n",
            "1563/1563 [==============================] - 71s 46ms/step - loss: 0.8131 - accuracy: 0.7172\n",
            "Epoch 8/10\n",
            "1563/1563 [==============================] - 69s 44ms/step - loss: 0.7748 - accuracy: 0.7317\n",
            "Epoch 9/10\n",
            "1563/1563 [==============================] - 72s 46ms/step - loss: 0.7451 - accuracy: 0.7416\n",
            "Epoch 10/10\n",
            "1563/1563 [==============================] - 68s 44ms/step - loss: 0.7169 - accuracy: 0.7510\n"
          ]
        },
        {
          "output_type": "execute_result",
          "data": {
            "text/plain": [
              "<keras.callbacks.History at 0x7be1d0a40910>"
            ]
          },
          "metadata": {},
          "execution_count": 24
        }
      ],
      "source": [
        "cnn.compile(optimizer='adam',\n",
        "              loss='sparse_categorical_crossentropy',\n",
        "              metrics=['accuracy'])\n",
        "cnn.fit(X_train, y_train, epochs=10)"
      ]
    },
    {
      "cell_type": "code",
      "source": [
        "cnn.evaluate(X_test,y_test)"
      ],
      "metadata": {
        "id": "Vhtf1cdGnuFf",
        "colab": {
          "base_uri": "https://localhost:8080/"
        },
        "outputId": "ecb24ac7-8033-4005-97a3-712bdcbfdfb4"
      },
      "execution_count": 28,
      "outputs": [
        {
          "output_type": "stream",
          "name": "stdout",
          "text": [
            "313/313 [==============================] - 4s 13ms/step - loss: 0.9298 - accuracy: 0.6935\n"
          ]
        },
        {
          "output_type": "execute_result",
          "data": {
            "text/plain": [
              "[0.9298338890075684, 0.6934999823570251]"
            ]
          },
          "metadata": {},
          "execution_count": 28
        }
      ]
    },
    {
      "cell_type": "code",
      "source": [
        "y_test = y_test.reshape(-1,)\n",
        "y_test[:5]\n",
        "\n"
      ],
      "metadata": {
        "id": "xrSkP-c8n1wC",
        "colab": {
          "base_uri": "https://localhost:8080/"
        },
        "outputId": "eb2f7460-33db-4f40-e3c0-0439bedba6b2"
      },
      "execution_count": 30,
      "outputs": [
        {
          "output_type": "execute_result",
          "data": {
            "text/plain": [
              "array([3, 8, 8, 0, 6], dtype=uint8)"
            ]
          },
          "metadata": {},
          "execution_count": 30
        }
      ]
    },
    {
      "cell_type": "code",
      "source": [
        "plot_sample(X_test,y_test,1)"
      ],
      "metadata": {
        "colab": {
          "base_uri": "https://localhost:8080/",
          "height": 237
        },
        "id": "cC2RlNXb3CuZ",
        "outputId": "236872fa-266f-4ecd-a2dd-7ae22efb1258"
      },
      "execution_count": 31,
      "outputs": [
        {
          "output_type": "display_data",
          "data": {
            "text/plain": [
              "<Figure size 1500x200 with 1 Axes>"
            ],
            "image/png": "[encoded data removed]"
          },
          "metadata": {}
        }
      ]
    },
    {
      "cell_type": "code",
      "source": [
        "y_pred = cnn.predict(X_test)\n",
        "y_pred[:5]"
      ],
      "metadata": {
        "id": "sLD4x20pomAV",
        "colab": {
          "base_uri": "https://localhost:8080/"
        },
        "outputId": "d0bcc652-5645-49c9-ba74-dfba02d07dbb"
      },
      "execution_count": 32,
      "outputs": [
        {
          "output_type": "stream",
          "name": "stdout",
          "text": [
            "313/313 [==============================] - 4s 12ms/step\n"
          ]
        },
        {
          "output_type": "execute_result",
          "data": {
            "text/plain": [
              "array([[8.35104787e-04, 3.10248106e-06, 2.60627293e-03, 8.57371688e-01,\n",
              "        1.63950041e-04, 1.21594697e-01, 9.55370907e-03, 1.56472655e-04,\n",
              "        7.64123257e-03, 7.37181545e-05],\n",
              "       [1.06367934e-02, 4.29548055e-01, 1.80345523e-06, 4.52103677e-06,\n",
              "        1.23010534e-06, 1.73239798e-07, 2.13824478e-07, 1.09067582e-06,\n",
              "        5.49799979e-01, 1.00060813e-02],\n",
              "       [3.30566376e-01, 3.73572439e-01, 2.25524418e-03, 1.27299204e-02,\n",
              "        1.38869358e-03, 2.60936999e-04, 2.88451061e-04, 2.80921115e-03,\n",
              "        2.45424315e-01, 3.07043586e-02],\n",
              "       [7.74283409e-01, 3.00898366e-02, 2.79994141e-02, 8.30348930e-04,\n",
              "        1.16799533e-01, 2.68151252e-05, 8.35154846e-04, 1.48109728e-04,\n",
              "        4.79014330e-02, 1.08592934e-03],\n",
              "       [9.96266135e-06, 4.73499313e-06, 1.49795655e-02, 2.89068408e-02,\n",
              "        3.59181821e-01, 1.35455439e-02, 5.83128035e-01, 6.07130205e-05,\n",
              "        1.71602485e-04, 1.11776744e-05]], dtype=float32)"
            ]
          },
          "metadata": {},
          "execution_count": 32
        }
      ]
    },
    {
      "cell_type": "code",
      "source": [
        "y_classes = [np.argmax(element) for element in y_pred]\n",
        "y_classes[:5]"
      ],
      "metadata": {
        "id": "YYlJ-XU8o6ih",
        "colab": {
          "base_uri": "https://localhost:8080/"
        },
        "outputId": "aef98c4e-a400-4518-9261-d7c94179325b"
      },
      "execution_count": 33,
      "outputs": [
        {
          "output_type": "execute_result",
          "data": {
            "text/plain": [
              "[3, 8, 1, 0, 6]"
            ]
          },
          "metadata": {},
          "execution_count": 33
        }
      ]
    },
    {
      "cell_type": "code",
      "source": [
        "y_test[:5]"
      ],
      "metadata": {
        "id": "j9u-nQJNsMto",
        "colab": {
          "base_uri": "https://localhost:8080/"
        },
        "outputId": "6233b0f5-477d-4a97-98c8-b07417f1f997"
      },
      "execution_count": 34,
      "outputs": [
        {
          "output_type": "execute_result",
          "data": {
            "text/plain": [
              "array([3, 8, 8, 0, 6], dtype=uint8)"
            ]
          },
          "metadata": {},
          "execution_count": 34
        }
      ]
    },
    {
      "cell_type": "code",
      "source": [
        "plot_sample(X_test, y_test,1)"
      ],
      "metadata": {
        "id": "H9H1eZHDsbIz",
        "colab": {
          "base_uri": "https://localhost:8080/",
          "height": 237
        },
        "outputId": "37550626-6bcd-4e05-f828-bbe9ed496e0a"
      },
      "execution_count": 35,
      "outputs": [
        {
          "output_type": "display_data",
          "data": {
            "text/plain": [
              "<Figure size 1500x200 with 1 Axes>"
            ],
            "image/png": "[encoded data removed]"
          },
          "metadata": {}
        }
      ]
    },
    {
      "cell_type": "code",
      "source": [
        "print(\"Classification Report:\\n\", classification_report(y_test, y_classes))"
      ],
      "metadata": {
        "id": "fdXB55LKsw9k",
        "colab": {
          "base_uri": "https://localhost:8080/"
        },
        "outputId": "80348ea0-ca28-45d0-d6b1-d3065ec7d2e0"
      },
      "execution_count": 41,
      "outputs": [
        {
          "output_type": "stream",
          "name": "stdout",
          "text": [
            "Classification Report:\n",
            "               precision    recall  f1-score   support\n",
            "\n",
            "           0       0.70      0.80      0.74      1000\n",
            "           1       0.83      0.78      0.80      1000\n",
            "           2       0.69      0.46      0.55      1000\n",
            "           3       0.55      0.49      0.52      1000\n",
            "           4       0.54      0.77      0.63      1000\n",
            "           5       0.65      0.56      0.60      1000\n",
            "           6       0.65      0.85      0.74      1000\n",
            "           7       0.76      0.72      0.74      1000\n",
            "           8       0.84      0.74      0.79      1000\n",
            "           9       0.80      0.77      0.78      1000\n",
            "\n",
            "    accuracy                           0.69     10000\n",
            "   macro avg       0.70      0.69      0.69     10000\n",
            "weighted avg       0.70      0.69      0.69     10000\n",
            "\n"
          ]
        }
      ]
    }
  ],
  "metadata": {
    "colab": {
      "provenance": [],
      "authorship_tag": "ABX9TyMwiC0IqxMI0RnnppI8bxeU",
      "include_colab_link": true
    },
    "kernelspec": {
      "display_name": "Python 3",
      "name": "python3"
    },
    "language_info": {
      "name": "python"
    }
  },
  "nbformat": 4,
  "nbformat_minor": 0
}